{
  "nbformat": 4,
  "nbformat_minor": 0,
  "metadata": {
    "colab": {
      "name": "MLP_draft.ipynb",
      "provenance": [],
      "collapsed_sections": [],
      "include_colab_link": true
    },
    "kernelspec": {
      "display_name": "Python 3",
      "language": "python",
      "name": "python3"
    },
    "language_info": {
      "codemirror_mode": {
        "name": "ipython",
        "version": 3
      },
      "file_extension": ".py",
      "mimetype": "text/x-python",
      "name": "python",
      "nbconvert_exporter": "python",
      "pygments_lexer": "ipython3",
      "version": "3.7.4"
    }
  },
  "cells": [
    {
      "cell_type": "markdown",
      "metadata": {
        "id": "view-in-github",
        "colab_type": "text"
      },
      "source": [
        "<a href=\"https://colab.research.google.com/github/Chaohua95/IBM-data-science-Capstone/blob/master/MLP_draft.ipynb\" target=\"_parent\"><img src=\"https://colab.research.google.com/assets/colab-badge.svg\" alt=\"Open In Colab\"/></a>"
      ]
    },
    {
      "cell_type": "code",
      "metadata": {
        "colab_type": "code",
        "id": "Di7w8SvzySEu",
        "colab": {}
      },
      "source": [
        "#import necessary libraries \n",
        "import h5py \n",
        "import numpy as np \n",
        "import matplotlib.pyplot as plt"
      ],
      "execution_count": 0,
      "outputs": []
    },
    {
      "cell_type": "code",
      "metadata": {
        "colab_type": "code",
        "id": "oIBsPJpwyqz_",
        "colab": {}
      },
      "source": [
        "N_classes= 10\n",
        "N_input= 128\n",
        "# define funciton for reading training data\n",
        "def read_training_set(): \n",
        "    # read training data file\n",
        "    with h5py.File('DataSet/train_128.h5', 'r') as H: \n",
        "        data = np.copy(H['data']) \n",
        "    # read training labels file\n",
        "    with h5py.File('DataSet/train_label.h5', 'r') as H: \n",
        "        labels = np.copy(H['label']) \n",
        "    \n",
        "    # convert labels to one-hot verctors \n",
        "    label_vectors = np.zeros((labels.shape[0], N_classes))\n",
        "    for i in range(0, labels.shape[0]):\n",
        "        for j in range(0, N_classes):\n",
        "            if labels[i,] == j:\n",
        "                label_vectors[i, j] = 1    \n",
        "    return data, label_vectors\n",
        "\n",
        "# define funciton for reading test data\n",
        "def read_test_data():\n",
        "    # read test data file\n",
        "    with h5py.File('../Input/test_128.h5', 'r') as H:\n",
        "        data = np.copy(H['data'])\n",
        "    return data\n",
        "\n",
        "# define function to normalise the data\n",
        "def normalise(data_set):\n",
        "    data_size = data_set.shape[0]\n",
        "    feature_size = data_set.shape[1]\n",
        "    \n",
        "    means = data_set.mean(axis=0) #calculate means of each feature \n",
        "    stds = data_set.std(axis=0) #calculate standard deviation of each feature\n",
        "    \n",
        "    data_normalised = (data_set - means)/stds \n",
        "            \n",
        "    return data_normalised"
      ],
      "execution_count": 0,
      "outputs": []
    },
    {
      "cell_type": "code",
      "metadata": {
        "id": "3y6hiEpmOBTn",
        "colab_type": "code",
        "colab": {}
      },
      "source": [
        "train_data, train_labels = read_training_set()\n",
        "train_data = normalise(train_data)\n",
        "\n",
        "\n",
        "# train_data= train_data[0:1000,:]\n",
        "# train_labels= train_labels[0:1000,:]"
      ],
      "execution_count": 0,
      "outputs": []
    },
    {
      "cell_type": "code",
      "metadata": {
        "id": "vobviGKdOBTp",
        "colab_type": "code",
        "colab": {}
      },
      "source": [
        "class Activation(object):\n",
        "    def tanh(self, x):\n",
        "        return np.tanh(x)\n",
        "\n",
        "    def tanh_deriv(self, a):\n",
        "#         a = np.tanh(x)   \n",
        "        return 1.0 - a**2\n",
        "    \n",
        "    def logistic(self, x):\n",
        "        return 1.0 / (1.0 + np.exp(-x))\n",
        "\n",
        "    def logistic_deriv(self, a):\n",
        "        # a = logistic(x) \n",
        "        return  a * (1 - a )\n",
        "   \n",
        "    def relu(self, x):\n",
        "        return (x > 0)*x\n",
        "    \n",
        "    def relu_deriv(self, a):\n",
        "        return (a > 0)\n",
        "    \n",
        "    def softmax(self, x):\n",
        "        return np.exp(x)/sum(np.exp(x))\n",
        "    \n",
        "    def softmax_deriv(self, a):\n",
        "        # a = softmax(x) \n",
        "        return  a \n",
        "\n",
        "    \n",
        "    def __init__(self,activation='tanh'):\n",
        "        if activation == 'logistic':\n",
        "            self.f = self.logistic\n",
        "            self.f_deriv = self.logistic_deriv\n",
        "        elif activation == 'tanh':\n",
        "            self.f = self.tanh\n",
        "            self.f_deriv = self.tanh_deriv\n",
        "        elif activation == 'relu':\n",
        "            self.f = self.relu\n",
        "            self.f_deriv = self.relu_deriv\n",
        "        elif activation == 'softmax':\n",
        "            self.f = self.softmax\n",
        "            self.f_deriv = self.softmax_deriv"
      ],
      "execution_count": 0,
      "outputs": []
    },
    {
      "cell_type": "code",
      "metadata": {
        "id": "9G1rr-iyOBTr",
        "colab_type": "code",
        "colab": {}
      },
      "source": [
        "class HiddenLayer(object):    \n",
        "    def __init__(self,n_in, n_out,\n",
        "                 activation_last_layer='tanh',activation='tanh', W=None, b=None):\n",
        "  \n",
        "        self.input=None\n",
        "        self.activation= Activation(activation).f\n",
        "        \n",
        "        self.activation_deriv=None\n",
        "        if activation_last_layer: #There's another layer before, not input layer\n",
        "            self.activation_deriv= Activation(activation_last_layer).f_deriv #used to pass the delta on\n",
        "\n",
        "        #initialize weights\n",
        "        self.W = np.random.uniform(\n",
        "                low=-np.sqrt(6. / (n_in + n_out)),\n",
        "                high=np.sqrt(6. / (n_in + n_out)),\n",
        "                size=(n_in, n_out)\n",
        "        )\n",
        "        if activation == 'logistic':\n",
        "            self.W *= 4\n",
        "\n",
        "        self.b = np.zeros(n_out,)\n",
        "        \n",
        "        self.grad_W = np.zeros(self.W.shape)\n",
        "        self.grad_b = np.zeros(self.b.shape)\n",
        "        self.acc_grad_W= np.zeros(self.W.shape)\n",
        "        self.acc_grad_b= np.zeros(self.b.shape)\n",
        "        self.n_in= n_in\n",
        "        self.n_out= n_out\n",
        "        self.mask= np.ones(n_out,)\n",
        "\n",
        "    #unified function calls\n",
        "    def forward(self, input, dropout, train, output_layer= False): \n",
        "        lin_output = np.dot(input, self.W) + self.b\n",
        "        self.output = (\n",
        "            lin_output if self.activation is None\n",
        "            else self.activation(lin_output)\n",
        "        )\n",
        "        if train and dropout and not output_layer and self.activation_deriv:\n",
        "            self.mask= (np.random.binomial(1, (1-dropout), self.n_in)/(1-dropout))\n",
        "#             self.output *= self.mask \n",
        "            input = input * self.mask\n",
        "        self.input= input\n",
        "        return self.output\n",
        "    \n",
        "    def backward(self, delta, learning_rate, momentum, decay, dropout, output_layer=False): \n",
        "#         if dropout and not output_layer and self.activation_deriv:\n",
        "#             delta= delta * self.mask \n",
        "        #(optimize=\"sgd\")\n",
        "        # Gradient= delta * Input\n",
        "        self.grad_W = np.atleast_2d(self.input).T.dot(np.atleast_2d(delta))\n",
        "        self.grad_b = delta\n",
        "        if decay: #weight decay\n",
        "            self.grad_W += decay*self.W\n",
        "        if self.activation_deriv: #There's another layer before, pass the delta on\n",
        "            #Next_delta = delta * W * Deriv(layer Input)\n",
        "            delta = delta.dot(self.W.T) * self.activation_deriv(self.input) #next delta for layer before\n",
        "        \n",
        "        if dropout and not output_layer and self.activation_deriv:\n",
        "            delta= delta * self.mask\n",
        "\n",
        "        if momentum:\n",
        "            #(optimize=\"momentum\") One-sample sgd or mini-batch\n",
        "            self.acc_grad_W = momentum*self.acc_grad_W - learning_rate*self.grad_W\n",
        "            self.acc_grad_b = momentum*self.acc_grad_b - learning_rate*self.grad_b         \n",
        "        else:\n",
        "            #(optimize=\"sgd\",batch_size >1) Mini-batch\n",
        "            self.acc_grad_W = self.acc_grad_W - learning_rate*self.grad_W\n",
        "            self.acc_grad_b = self.acc_grad_b - learning_rate*self.grad_b\n",
        "        return delta\n",
        "    \n",
        "    "
      ],
      "execution_count": 0,
      "outputs": []
    },
    {
      "cell_type": "code",
      "metadata": {
        "id": "_8zWQkX7OBTt",
        "colab_type": "code",
        "colab": {}
      },
      "source": [
        "class MLP:     \n",
        "    def __init__(self, layers, activation=[None,'tanh','tanh']):\n",
        "        ### initialize layers\n",
        "        self.layers=[]\n",
        "        self.params=[]\n",
        "        \n",
        "        self.activation= activation\n",
        "        for i in range(len(layers)-1):\n",
        "            self.layers.append(HiddenLayer(layers[i],layers[i+1],activation[i],activation[i+1])) \n",
        "    \n",
        "    def forward(self,input, dropout=0, train= False):\n",
        "        output_layer= False\n",
        "        for layer in self.layers:\n",
        "            if layer == self.layers[-1]: output_layer= True\n",
        "            output=layer.forward(input, dropout, train, output_layer)\n",
        "            input=output\n",
        "        return output\n",
        "    \n",
        "    def MSE(self,y,y_hat,decay):                \n",
        "        activation_deriv= Activation(self.activation[-1]).f_deriv        \n",
        "        error = y_hat-y #mse\n",
        "        l2= decay*(self.layers[-1].W**2).sum() / 2 \n",
        "        loss= (error**2).sum()  +  l2\n",
        "        delta= error*activation_deriv(y_hat)  # calculate delta of the output layer\n",
        "        return loss,delta\n",
        "    \n",
        "    def crossEntropy(self,y,y_hat,decay):\n",
        "        #softmax\n",
        "        if round(sum(y_hat)) != 1.:\n",
        "            y_hat= np.exp(y_hat)/sum(np.exp(y_hat))\n",
        "        #cross Entropy    \n",
        "        activation_deriv= Activation(self.activation[-1]).f_deriv\n",
        "        l2= decay*(self.layers[-1].W**2).sum() / 2\n",
        "        loss= -1*np.dot(y, np.log(y_hat+1e-7)) + l2\n",
        "        error= y_hat-y #with softmax\n",
        "        delta= error # calculate delta of the output layer\n",
        "        return loss,delta   \n",
        "        \n",
        "    def backward(self,delta, learning_rate, momentum, decay, dropout):\n",
        "        delta=self.layers[-1].backward(delta, learning_rate, momentum, decay, dropout, output_layer=True)#back propagate outer delta\n",
        "        for layer in reversed(self.layers[:-1]):\n",
        "            delta=layer.backward(delta, learning_rate, momentum, decay, dropout)#back propagate delta\n",
        "            \n",
        "    def update(self,lr, momentum, batch_size):\n",
        "        if not momentum:\n",
        "            #(optimize=\"sgd\")\n",
        "            for layer in self.layers:\n",
        "                layer.W -= lr * layer.grad_W\n",
        "                layer.b -= lr * layer.grad_b\n",
        "        else:\n",
        "            #(optimize=\"momentum\") One-sample sgd or mini-batch\n",
        "            for layer in self.layers:\n",
        "                layer.W += layer.acc_grad_W\n",
        "                layer.b += layer.acc_grad_b\n",
        "            #mini-batch reset (batch_size > 1)\n",
        "            if batch_size > 1:\n",
        "                for layer in self.layers:\n",
        "                    layer.acc_grad_W = np.zeros(layer.acc_grad_W.shape)\n",
        "                    layer.acc_grad_b= np.zeros(layer.acc_grad_b.shape)\n",
        "    \n",
        "    def predict(self, x): \n",
        "        x = np.array(x)\n",
        "        output = []\n",
        "        for i in np.arange(x.shape[0]):\n",
        "            output.append(self.forward(x[i,:]))\n",
        "        return np.array(output)\n",
        "    \n",
        "    def fit(self,X,y, optimize= \"sgd\", regularize= None, cost= \"mse\", dropout= 0.5,\n",
        "            decay= 0.001, batch_size= 1, learning_rate=0.1, momentum= 0.9, epochs=250):\n",
        "        X=np.array(X)\n",
        "        y=np.array(y)\n",
        "        to_return = np.zeros(epochs)  \n",
        "        if optimize != \"momentum\": #sgd \n",
        "            momentum= None\n",
        "        if regularize !=\"wd\":\n",
        "            decay= 0\n",
        "        if regularize != \"dropout\":\n",
        "            dropout= 0\n",
        "            \n",
        "        for k in range(epochs):\n",
        "            loss=np.zeros(X.shape[0])\n",
        "            \n",
        "            #shuffle index------------------------------------------------\n",
        "            index_shuf = list(range(X.shape[0]))\n",
        "            np.random.shuffle(index_shuf)\n",
        "            n_batches = X.shape[0] // batch_size\n",
        "            j= 0\n",
        "            for i in range(n_batches): \n",
        "                X_batch= X[index_shuf[i * batch_size:(i + 1)*batch_size], :]\n",
        "                y_batch= y[index_shuf[i * batch_size:(i + 1)*batch_size], :]\n",
        "                \n",
        "                #inside batch---------------------------------------------\n",
        "                for i2 in range(batch_size):\n",
        "                    # forward pass\n",
        "                    y_hat = self.forward(X_batch[i2,:], dropout, train= True)\n",
        "                    if cost==\"crossentropy\":                    \n",
        "                        loss[j],delta=self.crossEntropy(y_batch[i2,:],y_hat,decay)\n",
        "                        if(np.isnan(loss[j])): return to_return[0:k-1]\n",
        "                    else:\n",
        "                        loss[j],delta=self.MSE(y_batch[i2,:],y_hat,decay)\n",
        "                        if(np.isnan(loss[j])): return to_return[0:k-1]\n",
        "                    j+=1\n",
        "                    # backward pass    \n",
        "                    self.backward(delta, learning_rate, momentum, decay, dropout)\n",
        "                    \n",
        "                # update--------------------------------------------------\n",
        "                self.update(learning_rate, momentum, batch_size)\n",
        "            to_return[k] = np.mean(loss)  \n",
        "            print('loss at epoch ' + str(k) + \": \" + str(to_return[k]))\n",
        "        return to_return    \n",
        "       \n",
        "   "
      ],
      "execution_count": 0,
      "outputs": []
    },
    {
      "cell_type": "code",
      "metadata": {
        "id": "AqCjEW3WOBTv",
        "colab_type": "code",
        "colab": {}
      },
      "source": [
        "### Try different MLP models\n",
        "nn = MLP([N_input, 64, 32, 16, N_classes], [None,'relu', 'relu', 'relu', 'softmax'])"
      ],
      "execution_count": 0,
      "outputs": []
    },
    {
      "cell_type": "code",
      "metadata": {
        "scrolled": true,
        "id": "S6bOyrEYOBTx",
        "colab_type": "code",
        "colab": {},
        "outputId": "de134b14-f917-4503-bd47-505d6b1673da"
      },
      "source": [
        "### Try different learning rate and epochs\n",
        "MSE = nn.fit(train_data,train_labels, optimize= \"momentum\", cost= \"crossentropy\",  regularize= \"dropout\", dropout= 0.1,\n",
        "             batch_size= 200, learning_rate=0.01, epochs=50)\n",
        "print('loss:%f'%MSE[-1])"
      ],
      "execution_count": 0,
      "outputs": [
        {
          "output_type": "stream",
          "text": [
            "loss at epoch 0: 1.306962728142269\n",
            "loss at epoch 1: 0.6223788034869322\n",
            "loss at epoch 2: 0.5294123420893421\n",
            "loss at epoch 3: 0.4868005905859126\n",
            "loss at epoch 4: 0.4629800978071907\n",
            "loss at epoch 5: 0.4416570742677548\n",
            "loss at epoch 6: 0.424252223087295\n",
            "loss at epoch 7: 0.41218474212895717\n",
            "loss at epoch 8: 0.40459305974403287\n",
            "loss at epoch 9: 0.39299041883555286\n",
            "loss at epoch 10: 0.39135640766679886\n",
            "loss at epoch 11: 0.3816350107056029\n",
            "loss at epoch 12: 0.379046244824506\n",
            "loss at epoch 13: 0.3799642890590786\n",
            "loss at epoch 14: 0.373706473213852\n",
            "loss at epoch 15: 0.3653861906985298\n",
            "loss at epoch 16: 0.3705965200792302\n",
            "loss at epoch 17: 0.36924765263360654\n",
            "loss at epoch 18: 0.34942801394922707\n",
            "loss at epoch 19: 0.3473971593530204\n",
            "loss at epoch 20: 0.3431924556390626\n",
            "loss at epoch 21: 0.3478143789838454\n",
            "loss at epoch 22: 0.3432238064317335\n",
            "loss at epoch 23: 0.3369587127674719\n",
            "loss at epoch 24: 0.3328370604658605\n",
            "loss at epoch 25: 0.32950972301642134\n",
            "loss at epoch 26: 0.3273344970270294\n",
            "loss at epoch 27: 0.32343266989861846\n",
            "loss at epoch 28: 0.3278100493373873\n",
            "loss at epoch 29: 0.3250706348901003\n",
            "loss at epoch 30: 0.3203206883629935\n",
            "loss at epoch 31: 0.31745273493147746\n",
            "loss at epoch 32: 0.32717645150569685\n",
            "loss at epoch 33: 0.3196917590830594\n",
            "loss at epoch 34: 0.3181226235612829\n",
            "loss at epoch 35: 0.31496218756369765\n",
            "loss at epoch 36: 0.31296063443305444\n",
            "loss at epoch 37: 0.3026035590998213\n"
          ],
          "name": "stdout"
        }
      ]
    },
    {
      "cell_type": "code",
      "metadata": {
        "id": "U3h9D_z7OBTz",
        "colab_type": "code",
        "colab": {},
        "outputId": "5367c660-3bc7-4ec8-b88b-2df5a7427d7b"
      },
      "source": [
        "plt.figure(figsize=(15,4))\n",
        "plt.plot(MSE)\n",
        "plt.grid()"
      ],
      "execution_count": 0,
      "outputs": [
        {
          "output_type": "display_data",
          "data": {
            "image/png": "[encoded data removed]",
            "text/plain": [
              "<Figure size 1080x288 with 1 Axes>"
            ]
          },
          "metadata": {
            "tags": [],
            "needs_background": "light"
          }
        }
      ]
    },
    {
      "cell_type": "code",
      "metadata": {
        "id": "pIauQCMdOBT1",
        "colab_type": "code",
        "colab": {},
        "outputId": "7bec604f-517a-47f7-ba5c-790ca816ba60"
      },
      "source": [
        "train_labels2= np.argmax(train_labels, axis=1)\n",
        "output = nn.predict(train_data)\n",
        "output= np.argmax(output, axis=1)\n",
        "print(sum(output==train_labels2)/len(output))\n"
      ],
      "execution_count": 0,
      "outputs": [
        {
          "output_type": "stream",
          "text": [
            "0.8229166666666666\n"
          ],
          "name": "stdout"
        }
      ]
    },
    {
      "cell_type": "code",
      "metadata": {
        "id": "Xp_zNmlAOBT2",
        "colab_type": "code",
        "colab": {}
      },
      "source": [
        ""
      ],
      "execution_count": 0,
      "outputs": []
    },
    {
      "cell_type": "code",
      "metadata": {
        "id": "Tru_Nw38OBT4",
        "colab_type": "code",
        "colab": {}
      },
      "source": [
        ""
      ],
      "execution_count": 0,
      "outputs": []
    }
  ]
}